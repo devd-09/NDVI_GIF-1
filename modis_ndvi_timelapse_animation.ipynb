{
 "cells": [
  {
   "cell_type": "code",
   "execution_count": null,
   "id": "691996ef",
   "metadata": {
    "vscode": {
     "languageId": "plaintext"
    }
   },
   "outputs": [],
   "source": [
    "#!pip install geemap[all]\n",
    "#!pip install earthengine-api\n",
    "#!pip install ee\n",
    "\n",
    "import geemap,geemap as import_map\n",
    "import ee\n",
    "import os\n",
    "ee.Authenticate()\n",
    "ee.Initialize(project='geobvieer')\n",
    "vis_map=import_map.Map()"
   ]
  },
  {
   "cell_type": "code",
   "execution_count": null,
   "id": "25929a15",
   "metadata": {
    "vscode": {
     "languageId": "plaintext"
    }
   },
   "outputs": [],
   "source": [
    "e_g_district_b=ee.FeatureCollection('projects/geobvieer/assets/east_godavari')\n",
    "vis_map.addLayer(e_g_district_b,{},'East Godavari District Boundary')\n",
    "modis_data=ee.ImageCollection(\"MODIS/061/MOD13A1\").select(\"NDVI\")"
   ]
  },
  {
   "cell_type": "code",
   "execution_count": null,
   "id": "97e849f1",
   "metadata": {
    "vscode": {
     "languageId": "plaintext"
    }
   },
   "outputs": [],
   "source": [
    "region = ee.Geometry.Polygon([[\n",
    "   [80.87606575641922, 16.306551451427744],\n",
    "    [82.60457886502209, 16.306551451427744],\n",
    "    [82.60457886502209, 18.01443579097642],\n",
    "    [80.87606575641922, 18.01443579097642],\n",
    "    [80.87606575641922, 16.306551451427744]\n",
    "\n",
    "]])"
   ]
  },
  {
   "cell_type": "code",
   "execution_count": null,
   "id": "3d8c39b7",
   "metadata": {
    "vscode": {
     "languageId": "plaintext"
    }
   },
   "outputs": [],
   "source": [
    "landsat_india = modis_data.map(lambda img:img.set('doy', ee.Date(img.get('system:time_start')).getRelative('day', 'year')))\n",
    "doy=landsat_india.filterDate('2014-01-31','2024-01-31')\n",
    "filter=ee.Filter.equals(leftField='doy',rightField='doy')\n",
    "join=ee.Join.saveAll('doy_matches')\n",
    "joincol=ee.ImageCollection(join.apply(doy,landsat_india,filter))\n",
    "stack=joincol.map(lambda img: ee.ImageCollection.fromImages(img.get('doy_matches')).reduce(ee.Reducer.mean()))\n"
   ]
  },
  {
   "cell_type": "code",
   "execution_count": null,
   "id": "48001f1c",
   "metadata": {},
   "outputs": [],
   "source": [
    "\n",
    "ndviVis = {\n",
    "  'min': 0,\n",
    "  'max': 30000,\n",
    "  'palette': [\n",
    "    'ffffff', 'ce7e45', 'df923d', 'f1b555', 'fcd163', '99b718', '74a901',\n",
    "    '66a000', '529400', '3e8601', '207401', '056201', '004c00', '023b01',\n",
    "    '012e01', '011d01', '011301'\n",
    "  ],\n",
    "}"
   ]
  },
  {
   "cell_type": "code",
   "execution_count": null,
   "id": "000e8277",
   "metadata": {},
   "outputs": [],
   "source": [
    "rgbvis=stack.map(lambda img:img.visualize(bands=['NDVI_mean'],**ndviVis).clip(e_g_district_b))\n",
    "gifparams={\n",
    "    'region':region,\n",
    "    'dimensions':338,\n",
    "    'crs':'EPSG:4326',\n",
    "    'framesPerSecond':25,\n",
    "    'format':'gif'\n",
    "}\n",
    "print(rgbvis.getVideoThumbURL(gifparams))"
   ]
  }
 ],
 "metadata": {
  "language_info": {
   "name": "python"
  }
 },
 "nbformat": 4,
 "nbformat_minor": 5
}

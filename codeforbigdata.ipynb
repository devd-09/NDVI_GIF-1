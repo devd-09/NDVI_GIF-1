{
 "cells": [
  {
   "cell_type": "code",
   "execution_count": null,
   "id": "691996ef",
   "metadata": {
    "vscode": {
     "languageId": "plaintext"
    }
   },
   "outputs": [],
   "source": [
    "#!pip install geemap[all]\n",
    "#!pip install earthengine-api\n",
    "#!pip install ee\n",
    "\n",
    "import geemap,geemap as import_map\n",
    "import ee\n",
    "import os\n",
    "ee.Authenticate()\n",
    "ee.Initialize(project='geobvieer')\n",
    "vis_map=import_map.Map()"
   ]
  },
  {
   "cell_type": "code",
   "execution_count": null,
   "id": "25929a15",
   "metadata": {
    "vscode": {
     "languageId": "plaintext"
    }
   },
   "outputs": [],
   "source": [
    "e_g_district_b=ee.FeatureCollection('projects/geobvieer/assets/east_godavari')\n",
    "vis_map.addLayer(e_g_district_b,{},'East Godavari District Boundary')\n",
    "modis_data=ee.ImageCollection(\"MODIS/061/MOD13A1\").select(\"NDVI\")"
   ]
  },
  {
   "cell_type": "code",
   "execution_count": null,
   "id": "97e849f1",
   "metadata": {
    "vscode": {
     "languageId": "plaintext"
    }
   },
   "outputs": [],
   "source": [
    "region = ee.Geometry.Polygon([[\n",
    "   [80.87606575641922, 16.306551451427744],\n",
    "    [82.60457886502209, 16.306551451427744],\n",
    "    [82.60457886502209, 18.01443579097642],\n",
    "    [80.87606575641922, 18.01443579097642],\n",
    "    [80.87606575641922, 16.306551451427744]\n",
    "\n",
    "]])"
   ]
  }
 ],
 "metadata": {
  "language_info": {
   "name": "python"
  }
 },
 "nbformat": 4,
 "nbformat_minor": 5
}

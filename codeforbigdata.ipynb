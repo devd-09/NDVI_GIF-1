{
 "cells": [
  {
   "cell_type": "code",
   "execution_count": null,
   "id": "691996ef",
   "metadata": {
    "vscode": {
     "languageId": "plaintext"
    }
   },
   "outputs": [],
   "source": [
    "#!pip install geemap[all]\n",
    "#!pip install earthengine-api\n",
    "#!pip install ee\n",
    "\n",
    "import geemap,geemap as import_map\n",
    "import ee\n",
    "import os\n",
    "ee.Authenticate()\n",
    "ee.Initialize(project='geobvieer')\n",
    "vis_map=import_map.Map()"
   ]
  }
 ],
 "metadata": {
  "language_info": {
   "name": "python"
  }
 },
 "nbformat": 4,
 "nbformat_minor": 5
}

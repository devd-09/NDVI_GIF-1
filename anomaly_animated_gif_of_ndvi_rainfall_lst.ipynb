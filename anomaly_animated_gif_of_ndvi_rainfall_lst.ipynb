{
  "cells": [
    {
      "cell_type": "code",
      "execution_count": null,
      "id": "cb1b8662",
      "metadata": {
        "colab": {
          "base_uri": "https://localhost:8080/",
          "height": 17
        },
        "id": "cb1b8662",
        "outputId": "79402a9b-1c06-41ad-8ede-3733791a39e1"
      },
      "outputs": [
        {
          "data": {
            "text/html": [
              "\n",
              "            <style>\n",
              "                .geemap-dark {\n",
              "                    --jp-widgets-color: white;\n",
              "                    --jp-widgets-label-color: white;\n",
              "                    --jp-ui-font-color1: white;\n",
              "                    --jp-layout-color2: #454545;\n",
              "                    background-color: #383838;\n",
              "                }\n",
              "\n",
              "                .geemap-dark .jupyter-button {\n",
              "                    --jp-layout-color3: #383838;\n",
              "                }\n",
              "\n",
              "                .geemap-colab {\n",
              "                    background-color: var(--colab-primary-surface-color, white);\n",
              "                }\n",
              "\n",
              "                .geemap-colab .jupyter-button {\n",
              "                    --jp-layout-color3: var(--colab-primary-surface-color, white);\n",
              "                }\n",
              "            </style>\n",
              "            "
            ],
            "text/plain": [
              "<IPython.core.display.HTML object>"
            ]
          },
          "metadata": {},
          "output_type": "display_data"
        }
      ],
      "source": [
        "\n",
        "# !pip install geemap[all] --quiet\n",
        "\n",
        "import ee, geemap, os, json, math\n",
        "from datetime import datetime\n",
        "\n",
        "ee.Authenticate()\n",
        "ee.Initialize(project='users project_name')"
      ]
    },
    {
      "cell_type": "code",
      "execution_count": null,
      "id": "49491939",
      "metadata": {
        "colab": {
          "base_uri": "https://localhost:8080/",
          "height": 34
        },
        "id": "49491939",
        "outputId": "eda64f29-d660-44f2-8dfb-157abdae3b0c"
      },
      "outputs": [
        {
          "data": {
            "text/html": [
              "\n",
              "            <style>\n",
              "                .geemap-dark {\n",
              "                    --jp-widgets-color: white;\n",
              "                    --jp-widgets-label-color: white;\n",
              "                    --jp-ui-font-color1: white;\n",
              "                    --jp-layout-color2: #454545;\n",
              "                    background-color: #383838;\n",
              "                }\n",
              "\n",
              "                .geemap-dark .jupyter-button {\n",
              "                    --jp-layout-color3: #383838;\n",
              "                }\n",
              "\n",
              "                .geemap-colab {\n",
              "                    background-color: var(--colab-primary-surface-color, white);\n",
              "                }\n",
              "\n",
              "                .geemap-colab .jupyter-button {\n",
              "                    --jp-layout-color3: var(--colab-primary-surface-color, white);\n",
              "                }\n",
              "            </style>\n",
              "            "
            ],
            "text/plain": [
              "<IPython.core.display.HTML object>"
            ]
          },
          "metadata": {},
          "output_type": "display_data"
        },
        {
          "name": "stdout",
          "output_type": "stream",
          "text": [
            "Loaded region from asset: projects/debayan2002/assets/east_godavari\n"
          ]
        }
      ],
      "source": [
        "# use your own region of interest\n",
        "REGION_ASSET = 'users path for assests of study area in earth engine'\n",
        "region_fc = ee.FeatureCollection(REGION_ASSET)\n",
        "REGION = region_fc.geometry()\n",
        "\n",
        "\n",
        "SCALE_NDVI = 250\n",
        "SCALE_LST  = 1000\n",
        "SCALE_RAIN = 5000\n",
        "\n",
        "\n",
        "print(\"Region_loaded\", REGION_ASSET)"
      ]
    },
    {
      "cell_type": "code",
      "execution_count": 15,
      "id": "addb7985",
      "metadata": {
        "colab": {
          "base_uri": "https://localhost:8080/",
          "height": 17
        },
        "id": "addb7985",
        "outputId": "974e82bc-64d9-4f41-8df8-5e8cf552fd13"
      },
      "outputs": [
        {
          "data": {
            "text/html": [
              "\n",
              "            <style>\n",
              "                .geemap-dark {\n",
              "                    --jp-widgets-color: white;\n",
              "                    --jp-widgets-label-color: white;\n",
              "                    --jp-ui-font-color1: white;\n",
              "                    --jp-layout-color2: #454545;\n",
              "                    background-color: #383838;\n",
              "                }\n",
              "\n",
              "                .geemap-dark .jupyter-button {\n",
              "                    --jp-layout-color3: #383838;\n",
              "                }\n",
              "\n",
              "                .geemap-colab {\n",
              "                    background-color: var(--colab-primary-surface-color, white);\n",
              "                }\n",
              "\n",
              "                .geemap-colab .jupyter-button {\n",
              "                    --jp-layout-color3: var(--colab-primary-surface-color, white);\n",
              "                }\n",
              "            </style>\n",
              "            "
            ],
            "text/plain": [
              "<IPython.core.display.HTML object>"
            ]
          },
          "metadata": {},
          "output_type": "display_data"
        }
      ],
      "source": [
        "DATE_START = '2001-01-01'\n",
        "DATE_END   = '2025-01-01'\n",
        "\n",
        "# Baseline doy for anomaly detect\n",
        "BASELINE_START = '2001-01-01'\n",
        "BASELINE_END   = '2011-01-01'\n",
        "# Output\n",
        "OUT_DIR = 'outputs'\n",
        "os.makedirs(OUT_DIR, exist_ok=True)\n",
        "\n",
        "# Flags\n",
        "DO_ANOMALY      = True\n",
        "#DO_SPLIT_GIF    = True\n",
        "DO_EXPORT_CSV   = True\n",
        "DO_LAG          = True\n",
        "LAG_MONTHS      = 1"
      ]
    },
    {
      "cell_type": "code",
      "execution_count": null,
      "id": "f49543d5",
      "metadata": {
        "colab": {
          "base_uri": "https://localhost:8080/",
          "height": 34
        },
        "id": "f49543d5",
        "outputId": "6958e951-7253-4189-e184-61cd33efff60"
      },
      "outputs": [
        {
          "data": {
            "text/html": [
              "\n",
              "            <style>\n",
              "                .geemap-dark {\n",
              "                    --jp-widgets-color: white;\n",
              "                    --jp-widgets-label-color: white;\n",
              "                    --jp-ui-font-color1: white;\n",
              "                    --jp-layout-color2: #454545;\n",
              "                    background-color: #383838;\n",
              "                }\n",
              "\n",
              "                .geemap-dark .jupyter-button {\n",
              "                    --jp-layout-color3: #383838;\n",
              "                }\n",
              "\n",
              "                .geemap-colab {\n",
              "                    background-color: var(--colab-primary-surface-color, white);\n",
              "                }\n",
              "\n",
              "                .geemap-colab .jupyter-button {\n",
              "                    --jp-layout-color3: var(--colab-primary-surface-color, white);\n",
              "                }\n",
              "            </style>\n",
              "            "
            ],
            "text/plain": [
              "<IPython.core.display.HTML object>"
            ]
          },
          "metadata": {},
          "output_type": "display_data"
        },
        {
          "name": "stdout",
          "output_type": "stream",
          "text": [
            "Collections ready: 586 1172 16283\n"
          ]
        }
      ],
      "source": [
        "# DATASETS\n",
        "MODIS_NDVI = ee.ImageCollection('MODIS/061/MOD13Q1').select(['NDVI','SummaryQA'])\n",
        "CHIRPS     = ee.ImageCollection('UCSB-CHG/CHIRPS/DAILY').select('precipitation')\n",
        "MODIS_LST  = ee.ImageCollection('MODIS/061/MOD11A2').select('LST_Day_1km')\n",
        "\n",
        "def ndvi_clean(i):\n",
        "    mask = i.select('SummaryQA').lte(1)\n",
        "    return (i.updateMask(mask)\n",
        "              .select('NDVI')\n",
        "              .multiply(0.0001)  # scale factor\n",
        "              .copyProperties(i, ['system:time_start']))\n",
        "\n",
        "def lst_scale(i):\n",
        "    return (i.select('LST_Day_1km')\n",
        "              .multiply(0.02)     # to Kelvin\n",
        "              .copyProperties(i, ['system:time_start']))\n",
        "\n",
        "NDVI = MODIS_NDVI.map(ndvi_clean)\n",
        "LST  = MODIS_LST.map(lst_scale)\n",
        "RAIN = CHIRPS\n",
        "\n",
        "print(\"Collections:\", NDVI.size().getInfo(), LST.size().getInfo(), RAIN.size().getInfo())\n"
      ]
    },
    {
      "cell_type": "code",
      "execution_count": 17,
      "id": "129e0cd5",
      "metadata": {
        "colab": {
          "base_uri": "https://localhost:8080/",
          "height": 34
        },
        "id": "129e0cd5",
        "outputId": "6a15d3b9-39cf-434f-b802-5c38932b4329"
      },
      "outputs": [
        {
          "data": {
            "text/html": [
              "\n",
              "            <style>\n",
              "                .geemap-dark {\n",
              "                    --jp-widgets-color: white;\n",
              "                    --jp-widgets-label-color: white;\n",
              "                    --jp-ui-font-color1: white;\n",
              "                    --jp-layout-color2: #454545;\n",
              "                    background-color: #383838;\n",
              "                }\n",
              "\n",
              "                .geemap-dark .jupyter-button {\n",
              "                    --jp-layout-color3: #383838;\n",
              "                }\n",
              "\n",
              "                .geemap-colab {\n",
              "                    background-color: var(--colab-primary-surface-color, white);\n",
              "                }\n",
              "\n",
              "                .geemap-colab .jupyter-button {\n",
              "                    --jp-layout-color3: var(--colab-primary-surface-color, white);\n",
              "                }\n",
              "            </style>\n",
              "            "
            ],
            "text/plain": [
              "<IPython.core.display.HTML object>"
            ]
          },
          "metadata": {},
          "output_type": "display_data"
        },
        {
          "name": "stdout",
          "output_type": "stream",
          "text": [
            "Monthly collections: 288 288 288\n"
          ]
        }
      ],
      "source": [
        "#iterating and filtering each month to calculate and scrape the mean for ndvi and sum for precipitation value\n",
        "def monthly_reduce(ic, reducer, start=DATE_START, end=DATE_END):\n",
        "    start = ee.Date(start); end = ee.Date(end)\n",
        "    n = end.difference(start, 'month').subtract(1)\n",
        "    months = ee.List.sequence(0, n)\n",
        "\n",
        "    def per_m(m):\n",
        "        m = ee.Number(m)\n",
        "        d0 = start.advance(m, 'month')\n",
        "        d1 = d0.advance(1, 'month')\n",
        "        img = ic.filterDate(d0, d1).reduce(reducer)\n",
        "        img = ee.Image(img).set({\n",
        "            'system:time_start': d0.millis(),\n",
        "            'year': d0.get('year'),\n",
        "            'month': d0.get('month')\n",
        "        })\n",
        "        return img\n",
        "    return ee.ImageCollection(months.map(per_m))\n",
        "\n",
        "NDVI_M = monthly_reduce(NDVI, ee.Reducer.mean())\n",
        "RAIN_M = monthly_reduce(RAIN, ee.Reducer.sum())\n",
        "LST_M  = monthly_reduce(LST,  ee.Reducer.mean())\n",
        "\n",
        "print('Monthly collections:', NDVI_M.size().getInfo(), RAIN_M.size().getInfo(), LST_M.size().getInfo())\n"
      ]
    },
    {
      "cell_type": "code",
      "execution_count": 18,
      "id": "81e89448",
      "metadata": {
        "colab": {
          "base_uri": "https://localhost:8080/",
          "height": 34
        },
        "id": "81e89448",
        "outputId": "1fe17894-c78a-4549-db04-5316fd27654c"
      },
      "outputs": [
        {
          "data": {
            "text/html": [
              "\n",
              "            <style>\n",
              "                .geemap-dark {\n",
              "                    --jp-widgets-color: white;\n",
              "                    --jp-widgets-label-color: white;\n",
              "                    --jp-ui-font-color1: white;\n",
              "                    --jp-layout-color2: #454545;\n",
              "                    background-color: #383838;\n",
              "                }\n",
              "\n",
              "                .geemap-dark .jupyter-button {\n",
              "                    --jp-layout-color3: #383838;\n",
              "                }\n",
              "\n",
              "                .geemap-colab {\n",
              "                    background-color: var(--colab-primary-surface-color, white);\n",
              "                }\n",
              "\n",
              "                .geemap-colab .jupyter-button {\n",
              "                    --jp-layout-color3: var(--colab-primary-surface-color, white);\n",
              "                }\n",
              "            </style>\n",
              "            "
            ],
            "text/plain": [
              "<IPython.core.display.HTML object>"
            ]
          },
          "metadata": {},
          "output_type": "display_data"
        },
        {
          "name": "stdout",
          "output_type": "stream",
          "text": [
            "Anomaly series created.\n"
          ]
        }
      ],
      "source": [
        "#anomaly calculation\n",
        "if DO_ANOMALY:\n",
        "    NDVI_BASE = NDVI_M.filterDate(BASELINE_START, BASELINE_END).mean()\n",
        "    RAIN_BASE = RAIN_M.filterDate(BASELINE_START, BASELINE_END).mean()\n",
        "    LST_BASE  = LST_M .filterDate(BASELINE_START, BASELINE_END).mean()\n",
        "\n",
        "    def add_anom(ic, base, name):\n",
        "        return ic.map(lambda i: (ee.Image(i).subtract(base)\n",
        "                                    .rename(name)\n",
        "                                    .copyProperties(i, i.propertyNames())))\n",
        "    NDVI_ANOM = add_anom(NDVI_M, NDVI_BASE, 'NDVI_anom')\n",
        "    RAIN_ANOM = add_anom(RAIN_M, RAIN_BASE, 'RAIN_anom')\n",
        "    LST_ANOM  = add_anom(LST_M , LST_BASE , 'LST_anom')\n",
        "    print(\"Anomaly series created.\")\n",
        "else:\n",
        "    NDVI_ANOM = ee.ImageCollection([])\n",
        "    RAIN_ANOM = ee.ImageCollection([])\n",
        "    LST_ANOM  = ee.ImageCollection([])\n",
        "    print(\"Anomaly series skipped.\")\n"
      ]
    },
    {
      "cell_type": "code",
      "execution_count": 19,
      "id": "1051bc25",
      "metadata": {
        "colab": {
          "base_uri": "https://localhost:8080/",
          "height": 17
        },
        "id": "1051bc25",
        "outputId": "88063ab8-2f66-4507-fe51-4a35f68d7144"
      },
      "outputs": [
        {
          "data": {
            "text/html": [
              "\n",
              "            <style>\n",
              "                .geemap-dark {\n",
              "                    --jp-widgets-color: white;\n",
              "                    --jp-widgets-label-color: white;\n",
              "                    --jp-ui-font-color1: white;\n",
              "                    --jp-layout-color2: #454545;\n",
              "                    background-color: #383838;\n",
              "                }\n",
              "\n",
              "                .geemap-dark .jupyter-button {\n",
              "                    --jp-layout-color3: #383838;\n",
              "                }\n",
              "\n",
              "                .geemap-colab {\n",
              "                    background-color: var(--colab-primary-surface-color, white);\n",
              "                }\n",
              "\n",
              "                .geemap-colab .jupyter-button {\n",
              "                    --jp-layout-color3: var(--colab-primary-surface-color, white);\n",
              "                }\n",
              "            </style>\n",
              "            "
            ],
            "text/plain": [
              "<IPython.core.display.HTML object>"
            ]
          },
          "metadata": {},
          "output_type": "display_data"
        }
      ],
      "source": [
        "#visual_parameters\n",
        "NDVI_VIZ = {'min': 0, 'max': 1, 'palette': ['#8B4513', '#9A5120', '#A9602D', '#B8703A', '#C58047', '#D49055', '#E3A063', '#E9B081', '#EEC09F', '#F3D0BD', '#F8E0DB', '#FCF0F9', '#FCF3E1', '#FDF6C8', '#FDF9AF', '#FEFC96', '#F7F580', '#E7E86C', '#D7DC58', '#C7CF45', '#B7C332', '#A7B71F', '#97AA0D', '#889E0A', '#789209', '#698607', '#5A7A06', '#4B6E05', '#3C6203', '#2D5602', '#1F4A01', '#154000', '#133800', '#123000', '#112800', '#102000', '#101800', '#101000', '#101000', '#122200']}\n",
        "RAIN_VIZ = {'min': 10,   'max': 450, 'palette': [ \"#FFFFFF\", \"#EAF7FF\", \"#D5EEFF\", \"#C0E6FF\", \"#ABE0FF\",\"#96D9FF\", \"#81D2FF\", \"#6CCBFF\", \"#57C4FF\", \"#42BDFF\",\"#2DB6FF\", \"#18AFFF\", \"#009FF7\", \"#008FE0\", \"#007FC9\",\"#006FB2\", \"#005F9B\", \"#004F84\", \"#003F6D\", \"#002F56\",\"#001F3F\"]}\n",
        "LST_VIZ  = {'min': 274, 'max': 325, 'palette': [    \"#FFFFCC\", \"#FFF5B3\", \"#FFE999\", \"#FFDD80\", \"#FFD166\",\"#FFC34D\", \"#FFB733\", \"#FFA91A\", \"#FF9C00\", \"#FF8000\",\"#FF6600\", \"#FF4C00\", \"#FF3300\", \"#E02600\", \"#C21A00\",\"#A40D00\", \"#860000\", \"#660066\", \"#4B004B\", \"#330033\"]}\n",
        "\n",
        "ANOM_VIZ_NDVI = {'min': -0.3, 'max': 0.3, 'palette': ['green','yellow','red']}\n",
        "ANOM_VIZ_RAIN = {'min': -200, 'max': 200, 'palette': ['brown','white','blue']}\n",
        "ANOM_VIZ_LST  = {'min': -5,   'max':  5,  'palette': ['blue','yellow','red']}\n",
        "\n",
        "#separa\n",
        "def to_rgb(ic, vis):\n",
        "    return ic.map(lambda i:ee.Image(i).visualize(**vis).clip(REGION).copyProperties(i, ['system:time_start']))\n",
        "\n",
        "\n",
        "NDVI_RGB = to_rgb(NDVI_M, NDVI_VIZ)\n",
        "RAIN_RGB = to_rgb(RAIN_M, RAIN_VIZ)\n",
        "LST_RGB  = to_rgb(LST_M,  LST_VIZ)\n",
        "\n",
        "if DO_ANOMALY:\n",
        "    NDVI_ANOM_RGB = to_rgb(NDVI_ANOM, ANOM_VIZ_NDVI)\n",
        "    RAIN_ANOM_RGB = to_rgb(RAIN_ANOM, ANOM_VIZ_RAIN)\n",
        "    LST_ANOM_RGB  = to_rgb(LST_ANOM , ANOM_VIZ_LST)\n"
      ]
    },
    {
      "cell_type": "code",
      "execution_count": 20,
      "id": "MvAOF4crHRkB",
      "metadata": {
        "colab": {
          "base_uri": "https://localhost:8080/",
          "height": 17
        },
        "id": "MvAOF4crHRkB",
        "outputId": "21cc771f-807b-4aac-85c1-a299ced7124c"
      },
      "outputs": [
        {
          "data": {
            "text/html": [
              "\n",
              "            <style>\n",
              "                .geemap-dark {\n",
              "                    --jp-widgets-color: white;\n",
              "                    --jp-widgets-label-color: white;\n",
              "                    --jp-ui-font-color1: white;\n",
              "                    --jp-layout-color2: #454545;\n",
              "                    background-color: #383838;\n",
              "                }\n",
              "\n",
              "                .geemap-dark .jupyter-button {\n",
              "                    --jp-layout-color3: #383838;\n",
              "                }\n",
              "\n",
              "                .geemap-colab {\n",
              "                    background-color: var(--colab-primary-surface-color, white);\n",
              "                }\n",
              "\n",
              "                .geemap-colab .jupyter-button {\n",
              "                    --jp-layout-color3: var(--colab-primary-surface-color, white);\n",
              "                }\n",
              "            </style>\n",
              "            "
            ],
            "text/plain": [
              "<IPython.core.display.HTML object>"
            ]
          },
          "metadata": {},
          "output_type": "display_data"
        }
      ],
      "source": [
        "#creating timestams separately ..... matched each doy properties of imagecollection in background, will later stamped with output_gif\n",
        "def labels_from_ic(ic, fmt='YYYY-MMM'):\n",
        "    size = ic.size()\n",
        "    n = int(ee.Number(size).getInfo() or 0)\n",
        "    if n == 0:\n",
        "        return []  # nothing to label\n",
        "\n",
        "    lst = ic.toList(size)\n",
        "    def _fmt(img):\n",
        "        img = ee.Image(img)\n",
        "        ts = img.get('system:time_start')\n",
        "        ts_safe = ee.Algorithms.If(ts, ts, img.date().millis())\n",
        "        return ee.Date(ts_safe).format(fmt)\n",
        "    return ee.List(lst.map(_fmt)).getInfo()\n",
        "\n",
        "\n",
        "\n",
        "#font fills and parameters\n",
        "def overlay_labels_on_gif(in_path, out_path, labels, xy=('3%','8%'), font_size=28,\n",
        "                          fill=(255,255,255), stroke=(0,0,0), stroke_width=2):\n",
        "    try:\n",
        "        from PIL import Image, ImageDraw, ImageFont\n",
        "    except ImportError:\n",
        "        import sys, subprocess\n",
        "        subprocess.check_call([sys.executable, \"-m\", \"pip\", \"install\", \"pillow\"])\n",
        "        from PIL import Image, ImageDraw, ImageFont\n",
        "\n",
        "    # selecting font type\n",
        "    try:\n",
        "        font = ImageFont.truetype(\"DejaVuSans.ttf\", font_size)\n",
        "    except Exception:\n",
        "        try:\n",
        "            font = ImageFont.truetype(\"/usr/share/fonts/truetype/dejavu/DejaVuSans.ttf\", font_size)\n",
        "        except Exception:\n",
        "            font = ImageFont.load_default()\n",
        "\n",
        "    im = Image.open(in_path)\n",
        "    n_frames = getattr(im, \"n_frames\", 1)\n",
        "\n",
        "    # setting the frames per second of the timestamp separately so it matches the gif image collection\n",
        "\n",
        "    if len(labels) < n_frames:\n",
        "        labels = labels + [labels[-1]]*(n_frames - len(labels))\n",
        "    elif len(labels) > n_frames:\n",
        "        labels = labels[:n_frames]\n",
        "\n",
        "    frames = []\n",
        "    for i in range(n_frames):\n",
        "        im.seek(i)\n",
        "        frame = im.convert(\"RGBA\")\n",
        "        draw = ImageDraw.Draw(frame)\n",
        "\n",
        "        W, H = frame.size\n",
        "        def p(v, tot):\n",
        "            return int(float(v.strip('%'))/100.0 * tot) if isinstance(v,str) and v.endswith('%') else int(v)\n",
        "        x, y = p(xy[0], W), p(xy[1], H)\n",
        "\n",
        "        draw.text((x, y), str(labels[i]), font=font, fill=fill,\n",
        "                  stroke_width=stroke_width, stroke_fill=stroke)\n",
        "\n",
        "        frames.append(frame.convert(\"P\", palette=Image.ADAPTIVE))\n",
        "\n",
        "    duration = im.info.get(\"duration\", 150)\n",
        "    loop = im.info.get(\"loop\", 0)\n",
        "    frames[0].save(out_path, save_all=True, append_images=frames[1:],\n",
        "                   duration=duration, loop=loop, disposal=2, optimize=False)\n",
        "    return out_path\n"
      ]
    },
    {
      "cell_type": "code",
      "execution_count": null,
      "id": "d5589194",
      "metadata": {
        "colab": {
          "base_uri": "https://localhost:8080/",
          "height": 86
        },
        "id": "d5589194",
        "outputId": "1d437021-e59f-4812-ca22-2ed81b985455"
      },
      "outputs": [],
      "source": [
        "# TIMELAPSES (GIF)\n",
        "\n",
        "import os\n",
        "\n",
        "REGION_BOUNDS = REGION.simplify(1000).bounds(1000)\n",
        "# 2) Use dimensions only, scale may cause user a memory limit error\n",
        "gif_strctr_para = {\n",
        "    'region': REGION_BOUNDS,\n",
        "    'dimensions': 200,\n",
        "    'framesPerSecond': 5\n",
        "}\n",
        "\n",
        "ndvi_gif = os.path.join(OUT_DIR, 'ndvi_monthly.gif')\n",
        "rain_gif = os.path.join(OUT_DIR, 'rain_monthly.gif')\n",
        "lst_gif  = os.path.join(OUT_DIR, 'lst_monthly.gif')\n",
        "\n",
        "# Compat wrapper for different geemap signatures\n",
        "def _download_ic(ic, out_path, args):\n",
        "    try:\n",
        "        geemap.download_ee_video(ic, args, out_path)\n",
        "    except TypeError:\n",
        "        geemap.download_ee_video(ic, out_path, args)\n",
        "\n",
        "\n",
        "_download_ic(NDVI_RGB, ndvi_gif, gif_strctr_para)\n",
        "_download_ic(RAIN_RGB, rain_gif, gif_strctr_para)\n",
        "_download_ic(LST_RGB,  lst_gif,  gif_strctr_para)\n",
        "\n",
        "if DO_ANOMALY:\n",
        "    ndvi_anom_gif = os.path.join(OUT_DIR, 'ndvi_anomaly.gif')\n",
        "    rain_anom_gif = os.path.join(OUT_DIR, 'rain_anomaly.gif')\n",
        "    lst_anom_gif  = os.path.join(OUT_DIR, 'lst_anomaly.gif')\n",
        "    _download_ic(NDVI_ANOM_RGB, ndvi_anom_gif, gif_strctr_para)\n",
        "    _download_ic(RAIN_ANOM_RGB, rain_anom_gif, gif_strctr_para)\n",
        "    _download_ic(LST_ANOM_RGB,  lst_anom_gif,  gif_strctr_para)"
      ]
    },
    {
      "cell_type": "code",
      "execution_count": null,
      "id": "DgJLgKhAOn5c",
      "metadata": {
        "id": "DgJLgKhAOn5c"
      },
      "outputs": [],
      "source": [
        "import os\n",
        "\n",
        "def safe_stamp(ic_rgb, ic_src, gif_path, label_fmt='YYYY-MMM'):\n",
        "    if not os.path.exists(gif_path):\n",
        "        print(\"Skip stamp (file missing):\", gif_path)\n",
        "        return\n",
        "    labels = labels_from_ic(ic_rgb, fmt=label_fmt)\n",
        "    if not labels:\n",
        "        print(\"No labels from RGB IC; falling back to source IC for:\", gif_path)\n",
        "        labels = labels_from_ic(ic_src, fmt=label_fmt)\n",
        "    if not labels:\n",
        "        print(\"Skip stamp (no frames/labels):\", gif_path)\n",
        "        return\n",
        "    overlay_labels_on_gif(\n",
        "        gif_path, gif_path, labels,\n",
        "        xy=('3%','8%'), font_size=32,\n",
        "        fill=(255,255,255), stroke=(0,0,0), stroke_width=2\n",
        "    )\n",
        "    print(\"Stamped:\", gif_path)\n",
        "\n",
        "# primary gifs stamping\n",
        "safe_stamp(NDVI_RGB, NDVI_M, ndvi_gif)\n",
        "safe_stamp(RAIN_RGB, RAIN_M, rain_gif)\n",
        "safe_stamp(LST_RGB,  LST_M,  lst_gif)\n",
        "\n",
        "# anomaly gifs stamping\n",
        "if DO_ANOMALY:\n",
        "    safe_stamp(NDVI_ANOM_RGB, NDVI_ANOM, ndvi_anom_gif)\n",
        "    safe_stamp(RAIN_ANOM_RGB, RAIN_ANOM, rain_anom_gif)\n",
        "    safe_stamp(LST_ANOM_RGB,  LST_ANOM,  lst_anom_gif)\n"
      ]
    },
    {
      "cell_type": "code",
      "execution_count": null,
      "id": "64c20171",
      "metadata": {
        "id": "64c20171"
      },
      "outputs": [],
      "source": [
        "# defininng csv parameters\n",
        "\n",
        "def regional_series(ic, band, geom=REGION, scale=1000):\n",
        "    def to_feat(i):\n",
        "        date = ee.Date(i.get('system:time_start')).format('YYYY-MM')\n",
        "        mean = ee.Image(i).reduceRegion(ee.Reducer.mean(), geom, scale).get(band)\n",
        "        return ee.Feature(None, {'date': date, band: mean})\n",
        "    return ee.FeatureCollection(ic.map(to_feat))\n",
        "\n",
        "if DO_EXPORT_CSV:\n",
        "    ts_ndvi = regional_series(NDVI_M, 'NDVI_mean', scale=SCALE_NDVI)\n",
        "    ts_rain = regional_series(RAIN_M, 'precipitation_sum', scale=SCALE_RAIN)\n",
        "    ts_lst  = regional_series(LST_M , 'LST_Day_1km_mean', scale=SCALE_LST)\n",
        "\n",
        "    # Exporting the csv of each months of every year to Drive\n",
        "    ee.batch.Export.table.toDrive(\n",
        "        collection=ts_ndvi, description='EG_NDVI_monthly',folder='gif_csv', fileFormat='CSV'\n",
        "    ).start()\n",
        "\n",
        "    ee.batch.Export.table.toDrive(\n",
        "        collection=ts_rain, description='EG_RAIN_monthly',folder='gif_csv', fileFormat='CSV'\n",
        "    ).start()\n",
        "\n",
        "    ee.batch.Export.table.toDrive(\n",
        "        collection=ts_lst , description='EG_LST_monthly',folder='gif_csv', fileFormat='CSV'\n",
        "    ).start()\n",
        "\n",
        "    print(\"Drive CSV exports started (NDVI, Rain, LST).\")"
      ]
    },
    {
      "cell_type": "code",
      "execution_count": null,
      "id": "V7GmpBEjeuOb",
      "metadata": {
        "id": "V7GmpBEjeuOb"
      },
      "outputs": [],
      "source": [
        "# lag check - comparing 1 month rainfall with its next month showing if rain affecting ndvi values\n",
        "\n",
        "#shifting dates by 1 month\n",
        "def shift_dates(fc, months):\n",
        "    def shift_feat(f):\n",
        "        d = ee.Date.parse('YYYY-MM', f.get('date'))\n",
        "        d2 = d.advance(months, 'month')\n",
        "        return f.set('date_shifted', d2.format('YYYY-MM'))\n",
        "    return fc.map(shift_feat)\n",
        "\n",
        "if DO_LAG and DO_EXPORT_CSV:\n",
        "    # Build collections again (reuse from above to avoid client-side getInfo)\n",
        "    ts_ndvi = regional_series(NDVI_M, 'NDVI_mean', scale=SCALE_NDVI)\n",
        "    ts_rain = regional_series(RAIN_M, 'precipitation_sum', scale=SCALE_RAIN)\n",
        "    ts_rain_shift = shift_dates(ts_rain, LAG_MONTHS)\n",
        "\n",
        "#joining rain with shifted month of ndvi\n",
        "    filter_eq = ee.Filter.equals(leftField='date_shifted', rightField='date')\n",
        "    joined = ee.Join.inner().apply(ts_rain_shift, ts_ndvi, filter_eq)\n",
        "\n",
        "#flattening the table structure so it's align with rainfall and 1 month lag ndvi properly\n",
        "    def merge_props(j):\n",
        "        left = ee.Feature(j.get('primary'))\n",
        "        right = ee.Feature(j.get('secondary'))\n",
        "        return ee.Feature(None, {\n",
        "            'date': right.get('date'),\n",
        "            'rain_mm': left.get('precipitation_sum'),\n",
        "            'ndvi': right.get('NDVI_mean')\n",
        "        })\n",
        "    lag_fc = ee.FeatureCollection(joined.map(merge_props))\n",
        "\n",
        "    # Export joined table\n",
        "    ee.batch.Export.table.toDrive(\n",
        "        collection=lag_fc, description=f'EG_RAIN_vs_NDVI_lag{LAG_MONTHS}', fileFormat='CSV'\n",
        "    ).start()\n",
        "    print(f\"Drive CSV export started for lag={LAG_MONTHS} months (RAIN vs NDVI).\")\n",
        "else:\n",
        "    print(\"Lag analysis skipped or CSV export disabled.\")"
      ]
    }
  ],
  "metadata": {
    "colab": {
      "provenance": []
    },
    "kernelspec": {
      "display_name": "Python 3",
      "name": "python3"
    },
    "language_info": {
      "name": "python"
    }
  },
  "nbformat": 4,
  "nbformat_minor": 5
}
